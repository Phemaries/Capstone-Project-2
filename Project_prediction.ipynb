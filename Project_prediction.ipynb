{
 "cells": [
  {
   "cell_type": "code",
   "execution_count": null,
   "id": "25c77fe3-1e6c-4296-b772-2bb467532b60",
   "metadata": {},
   "outputs": [],
   "source": []
  },
  {
   "cell_type": "markdown",
   "id": "fbdd6c77-4af0-4a95-9570-20bf720d112f",
   "metadata": {},
   "source": [
    "### Feature Details:\n",
    "\n",
    "`instance_id`: A unique identifier for each instance in the dataset, represented as a floating-point number. There are 50,000 instances in total\n",
    "\n",
    "`artist_name`: The name of the artist who created the track, represented as a string (object).\n",
    "\n",
    "`track_name`: The name of the track, represented as a string (object\n",
    "\n",
    "`popularity`: A measure of the popularity of the track, represented as a floating-point number between 0 and 100. Higher values indicate greater popularity.\n",
    "\n",
    "`acousticness`: A measure of the acousticness of the track, represented as a floating-point number between 0 and 1. Higher values indicate greater acousticness.\n",
    "\n",
    "`danceability`: A measure of the danceability of the track, represented as a floating-point number between 0 and 1. Higher values indicate greater danceability.\n",
    "\n",
    "`duration_ms`: The duration of the track in milliseconds, represented as a floating-point number.\n",
    "\n",
    "`energy`: A measure of the energy of the track, represented as a floating-point number between 0 and 1. Higher values indicate greater energy.\n",
    "\n",
    "`instrumentalness`: A measure of the instrumentalness of the track, represented as a floating-point number between 0 and 1. Higher values indicate greater instrumentalness.\n",
    "\n",
    "`key`: The key in which the track is performed, represented as a string (object). There are 12 possible values: 'C', 'C#', 'D', 'D#', 'E', 'F', 'F#', 'G', 'G#', 'A', 'A#', and 'B'.\n",
    "\n",
    "`liveness`: A measure of the liveness of the track, represented as a floating-point number between 0 and 1. Higher values indicate greater liveness.\n",
    "\n",
    "`loudness`: A measure of the loudness of the track, represented as a floating-point number in decibels (dB). Higher values indicate greater loudness.\n",
    "\n",
    "`mode`: The mode in which the track is performed, represented as a string (object). There are two possible values: 'major' and 'minor'.\n",
    "\n",
    "`speechiness`: A measure of the speechiness of the track, represented as a floating-point number between 0 and 1. Higher values indicate greater speechiness.\n",
    "\n",
    "`tempo`: The tempo of the track in beats per minute (BPM), represented as a string (object).\n",
    "\n",
    "`obtained_date`: The date on which the track information was obtained, represented as a string (object).\n",
    "\n",
    "`valence`: A measure of the valence (positivity) of the track, represented as a floating-point number between 0 and 1. Higher values indicate greater positivity.\n",
    "\n",
    "#### `music_genre`: The genre of the track, represented as a string (object). There are multiple possible genres in the dataset."
   ]
  },
  {
   "cell_type": "code",
   "execution_count": null,
   "id": "e6d3df34-e450-4392-93b9-8ce8f927febf",
   "metadata": {},
   "outputs": [],
   "source": []
  },
  {
   "cell_type": "code",
   "execution_count": 306,
   "id": "36594457-2544-4f41-b2e4-8b1de0481928",
   "metadata": {},
   "outputs": [
    {
     "data": {
      "text/html": [
       "<div>\n",
       "<style scoped>\n",
       "    .dataframe tbody tr th:only-of-type {\n",
       "        vertical-align: middle;\n",
       "    }\n",
       "\n",
       "    .dataframe tbody tr th {\n",
       "        vertical-align: top;\n",
       "    }\n",
       "\n",
       "    .dataframe thead th {\n",
       "        text-align: right;\n",
       "    }\n",
       "</style>\n",
       "<table border=\"1\" class=\"dataframe\">\n",
       "  <thead>\n",
       "    <tr style=\"text-align: right;\">\n",
       "      <th></th>\n",
       "      <th>instance_id</th>\n",
       "      <th>artist_name</th>\n",
       "      <th>track_name</th>\n",
       "      <th>popularity</th>\n",
       "      <th>acousticness</th>\n",
       "      <th>danceability</th>\n",
       "      <th>duration_ms</th>\n",
       "      <th>energy</th>\n",
       "      <th>instrumentalness</th>\n",
       "      <th>key</th>\n",
       "      <th>liveness</th>\n",
       "      <th>loudness</th>\n",
       "      <th>mode</th>\n",
       "      <th>speechiness</th>\n",
       "      <th>tempo</th>\n",
       "      <th>obtained_date</th>\n",
       "      <th>valence</th>\n",
       "      <th>music_genre</th>\n",
       "    </tr>\n",
       "  </thead>\n",
       "  <tbody>\n",
       "    <tr>\n",
       "      <th>0</th>\n",
       "      <td>32894.0</td>\n",
       "      <td>Röyksopp</td>\n",
       "      <td>Röyksopp's Night Out</td>\n",
       "      <td>27.0</td>\n",
       "      <td>0.00468</td>\n",
       "      <td>0.652</td>\n",
       "      <td>-1.0</td>\n",
       "      <td>0.941</td>\n",
       "      <td>0.79200</td>\n",
       "      <td>A#</td>\n",
       "      <td>0.115</td>\n",
       "      <td>-5.201</td>\n",
       "      <td>Minor</td>\n",
       "      <td>0.0748</td>\n",
       "      <td>100.889</td>\n",
       "      <td>4-Apr</td>\n",
       "      <td>0.759</td>\n",
       "      <td>Electronic</td>\n",
       "    </tr>\n",
       "    <tr>\n",
       "      <th>1</th>\n",
       "      <td>46652.0</td>\n",
       "      <td>Thievery Corporation</td>\n",
       "      <td>The Shining Path</td>\n",
       "      <td>31.0</td>\n",
       "      <td>0.01270</td>\n",
       "      <td>0.622</td>\n",
       "      <td>218293.0</td>\n",
       "      <td>0.890</td>\n",
       "      <td>0.95000</td>\n",
       "      <td>D</td>\n",
       "      <td>0.124</td>\n",
       "      <td>-7.043</td>\n",
       "      <td>Minor</td>\n",
       "      <td>0.0300</td>\n",
       "      <td>115.00200000000001</td>\n",
       "      <td>4-Apr</td>\n",
       "      <td>0.531</td>\n",
       "      <td>Electronic</td>\n",
       "    </tr>\n",
       "    <tr>\n",
       "      <th>2</th>\n",
       "      <td>30097.0</td>\n",
       "      <td>Dillon Francis</td>\n",
       "      <td>Hurricane</td>\n",
       "      <td>28.0</td>\n",
       "      <td>0.00306</td>\n",
       "      <td>0.620</td>\n",
       "      <td>215613.0</td>\n",
       "      <td>0.755</td>\n",
       "      <td>0.01180</td>\n",
       "      <td>G#</td>\n",
       "      <td>0.534</td>\n",
       "      <td>-4.617</td>\n",
       "      <td>Major</td>\n",
       "      <td>0.0345</td>\n",
       "      <td>127.994</td>\n",
       "      <td>4-Apr</td>\n",
       "      <td>0.333</td>\n",
       "      <td>Electronic</td>\n",
       "    </tr>\n",
       "    <tr>\n",
       "      <th>3</th>\n",
       "      <td>62177.0</td>\n",
       "      <td>Dubloadz</td>\n",
       "      <td>Nitro</td>\n",
       "      <td>34.0</td>\n",
       "      <td>0.02540</td>\n",
       "      <td>0.774</td>\n",
       "      <td>166875.0</td>\n",
       "      <td>0.700</td>\n",
       "      <td>0.00253</td>\n",
       "      <td>C#</td>\n",
       "      <td>0.157</td>\n",
       "      <td>-4.498</td>\n",
       "      <td>Major</td>\n",
       "      <td>0.2390</td>\n",
       "      <td>128.014</td>\n",
       "      <td>4-Apr</td>\n",
       "      <td>0.270</td>\n",
       "      <td>Electronic</td>\n",
       "    </tr>\n",
       "    <tr>\n",
       "      <th>4</th>\n",
       "      <td>24907.0</td>\n",
       "      <td>What So Not</td>\n",
       "      <td>Divide &amp; Conquer</td>\n",
       "      <td>32.0</td>\n",
       "      <td>0.00465</td>\n",
       "      <td>0.638</td>\n",
       "      <td>222369.0</td>\n",
       "      <td>0.587</td>\n",
       "      <td>0.90900</td>\n",
       "      <td>F#</td>\n",
       "      <td>0.157</td>\n",
       "      <td>-6.266</td>\n",
       "      <td>Major</td>\n",
       "      <td>0.0413</td>\n",
       "      <td>145.036</td>\n",
       "      <td>4-Apr</td>\n",
       "      <td>0.323</td>\n",
       "      <td>Electronic</td>\n",
       "    </tr>\n",
       "  </tbody>\n",
       "</table>\n",
       "</div>"
      ],
      "text/plain": [
       "   instance_id           artist_name            track_name  popularity  \\\n",
       "0      32894.0              Röyksopp  Röyksopp's Night Out        27.0   \n",
       "1      46652.0  Thievery Corporation      The Shining Path        31.0   \n",
       "2      30097.0        Dillon Francis             Hurricane        28.0   \n",
       "3      62177.0              Dubloadz                 Nitro        34.0   \n",
       "4      24907.0           What So Not      Divide & Conquer        32.0   \n",
       "\n",
       "   acousticness  danceability  duration_ms  energy  instrumentalness key  \\\n",
       "0       0.00468         0.652         -1.0   0.941           0.79200  A#   \n",
       "1       0.01270         0.622     218293.0   0.890           0.95000   D   \n",
       "2       0.00306         0.620     215613.0   0.755           0.01180  G#   \n",
       "3       0.02540         0.774     166875.0   0.700           0.00253  C#   \n",
       "4       0.00465         0.638     222369.0   0.587           0.90900  F#   \n",
       "\n",
       "   liveness  loudness   mode  speechiness               tempo obtained_date  \\\n",
       "0     0.115    -5.201  Minor       0.0748             100.889         4-Apr   \n",
       "1     0.124    -7.043  Minor       0.0300  115.00200000000001         4-Apr   \n",
       "2     0.534    -4.617  Major       0.0345             127.994         4-Apr   \n",
       "3     0.157    -4.498  Major       0.2390             128.014         4-Apr   \n",
       "4     0.157    -6.266  Major       0.0413             145.036         4-Apr   \n",
       "\n",
       "   valence music_genre  \n",
       "0    0.759  Electronic  \n",
       "1    0.531  Electronic  \n",
       "2    0.333  Electronic  \n",
       "3    0.270  Electronic  \n",
       "4    0.323  Electronic  "
      ]
     },
     "execution_count": 306,
     "metadata": {},
     "output_type": "execute_result"
    }
   ],
   "source": [
    "df.head()"
   ]
  },
  {
   "cell_type": "code",
   "execution_count": 307,
   "id": "be540efa-38e1-46be-a924-d33ececd9c6d",
   "metadata": {},
   "outputs": [
    {
     "data": {
      "text/plain": [
       "(50005, 18)"
      ]
     },
     "execution_count": 307,
     "metadata": {},
     "output_type": "execute_result"
    }
   ],
   "source": [
    "df.shape"
   ]
  },
  {
   "cell_type": "code",
   "execution_count": 308,
   "id": "a2d07786-3217-4266-b729-4f6c278da5e3",
   "metadata": {},
   "outputs": [
    {
     "data": {
      "text/plain": [
       "Index(['instance_id', 'artist_name', 'track_name', 'popularity',\n",
       "       'acousticness', 'danceability', 'duration_ms', 'energy',\n",
       "       'instrumentalness', 'key', 'liveness', 'loudness', 'mode',\n",
       "       'speechiness', 'tempo', 'obtained_date', 'valence', 'music_genre'],\n",
       "      dtype='object')"
      ]
     },
     "execution_count": 308,
     "metadata": {},
     "output_type": "execute_result"
    }
   ],
   "source": [
    "df.columns"
   ]
  },
  {
   "cell_type": "code",
   "execution_count": 309,
   "id": "bfe265d9-f110-4a0e-bc73-5721908a2799",
   "metadata": {},
   "outputs": [
    {
     "name": "stdout",
     "output_type": "stream",
     "text": [
      "<class 'pandas.core.frame.DataFrame'>\n",
      "RangeIndex: 50005 entries, 0 to 50004\n",
      "Data columns (total 18 columns):\n",
      " #   Column            Non-Null Count  Dtype  \n",
      "---  ------            --------------  -----  \n",
      " 0   instance_id       50000 non-null  float64\n",
      " 1   artist_name       50000 non-null  object \n",
      " 2   track_name        50000 non-null  object \n",
      " 3   popularity        50000 non-null  float64\n",
      " 4   acousticness      50000 non-null  float64\n",
      " 5   danceability      50000 non-null  float64\n",
      " 6   duration_ms       50000 non-null  float64\n",
      " 7   energy            50000 non-null  float64\n",
      " 8   instrumentalness  50000 non-null  float64\n",
      " 9   key               50000 non-null  object \n",
      " 10  liveness          50000 non-null  float64\n",
      " 11  loudness          50000 non-null  float64\n",
      " 12  mode              50000 non-null  object \n",
      " 13  speechiness       50000 non-null  float64\n",
      " 14  tempo             50000 non-null  object \n",
      " 15  obtained_date     50000 non-null  object \n",
      " 16  valence           50000 non-null  float64\n",
      " 17  music_genre       50000 non-null  object \n",
      "dtypes: float64(11), object(7)\n",
      "memory usage: 6.9+ MB\n"
     ]
    }
   ],
   "source": [
    "df.info()"
   ]
  },
  {
   "cell_type": "code",
   "execution_count": 310,
   "id": "14bf5b4c-6f07-4b7e-ad1a-bbb728355901",
   "metadata": {},
   "outputs": [
    {
     "data": {
      "text/plain": [
       "instance_id         5\n",
       "artist_name         5\n",
       "track_name          5\n",
       "popularity          5\n",
       "acousticness        5\n",
       "danceability        5\n",
       "duration_ms         5\n",
       "energy              5\n",
       "instrumentalness    5\n",
       "key                 5\n",
       "liveness            5\n",
       "loudness            5\n",
       "mode                5\n",
       "speechiness         5\n",
       "tempo               5\n",
       "obtained_date       5\n",
       "valence             5\n",
       "music_genre         5\n",
       "dtype: int64"
      ]
     },
     "execution_count": 310,
     "metadata": {},
     "output_type": "execute_result"
    }
   ],
   "source": [
    "df.isnull().sum()"
   ]
  },
  {
   "cell_type": "code",
   "execution_count": 311,
   "id": "aacb9fae-3264-4dd3-926f-18faed727018",
   "metadata": {},
   "outputs": [],
   "source": [
    "df = df.drop_duplicates()"
   ]
  },
  {
   "cell_type": "code",
   "execution_count": 312,
   "id": "566fd818-4a90-4a16-9300-7d2fcd29c486",
   "metadata": {},
   "outputs": [
    {
     "data": {
      "text/plain": [
       "(50001, 18)"
      ]
     },
     "execution_count": 312,
     "metadata": {},
     "output_type": "execute_result"
    }
   ],
   "source": [
    "df.shape"
   ]
  },
  {
   "cell_type": "code",
   "execution_count": 313,
   "id": "29f7ad92-eeeb-4de5-896d-c3f9173a78b9",
   "metadata": {},
   "outputs": [
    {
     "data": {
      "text/plain": [
       "instance_id         1\n",
       "artist_name         1\n",
       "track_name          1\n",
       "popularity          1\n",
       "acousticness        1\n",
       "danceability        1\n",
       "duration_ms         1\n",
       "energy              1\n",
       "instrumentalness    1\n",
       "key                 1\n",
       "liveness            1\n",
       "loudness            1\n",
       "mode                1\n",
       "speechiness         1\n",
       "tempo               1\n",
       "obtained_date       1\n",
       "valence             1\n",
       "music_genre         1\n",
       "dtype: int64"
      ]
     },
     "execution_count": 313,
     "metadata": {},
     "output_type": "execute_result"
    }
   ],
   "source": [
    "df.isnull().sum()"
   ]
  },
  {
   "cell_type": "code",
   "execution_count": 314,
   "id": "ac9af16c-0382-4116-8674-41dcc97983df",
   "metadata": {},
   "outputs": [],
   "source": [
    "df.dropna(inplace=True)"
   ]
  },
  {
   "cell_type": "code",
   "execution_count": 315,
   "id": "56c80f8e-2cd2-4a36-a898-648edc8ee6a8",
   "metadata": {},
   "outputs": [
    {
     "data": {
      "text/plain": [
       "(50000, 18)"
      ]
     },
     "execution_count": 315,
     "metadata": {},
     "output_type": "execute_result"
    }
   ],
   "source": [
    "df.shape"
   ]
  },
  {
   "cell_type": "code",
   "execution_count": 316,
   "id": "22ef82aa-13d4-4143-9317-3ccb71ce476a",
   "metadata": {},
   "outputs": [
    {
     "data": {
      "text/html": [
       "<div>\n",
       "<style scoped>\n",
       "    .dataframe tbody tr th:only-of-type {\n",
       "        vertical-align: middle;\n",
       "    }\n",
       "\n",
       "    .dataframe tbody tr th {\n",
       "        vertical-align: top;\n",
       "    }\n",
       "\n",
       "    .dataframe thead th {\n",
       "        text-align: right;\n",
       "    }\n",
       "</style>\n",
       "<table border=\"1\" class=\"dataframe\">\n",
       "  <thead>\n",
       "    <tr style=\"text-align: right;\">\n",
       "      <th></th>\n",
       "      <th>instance_id</th>\n",
       "      <th>popularity</th>\n",
       "      <th>acousticness</th>\n",
       "      <th>danceability</th>\n",
       "      <th>duration_ms</th>\n",
       "      <th>energy</th>\n",
       "      <th>instrumentalness</th>\n",
       "      <th>liveness</th>\n",
       "      <th>loudness</th>\n",
       "      <th>speechiness</th>\n",
       "      <th>valence</th>\n",
       "    </tr>\n",
       "  </thead>\n",
       "  <tbody>\n",
       "    <tr>\n",
       "      <th>count</th>\n",
       "      <td>50000.000000</td>\n",
       "      <td>50000.000000</td>\n",
       "      <td>50000.000000</td>\n",
       "      <td>50000.000000</td>\n",
       "      <td>5.000000e+04</td>\n",
       "      <td>50000.000000</td>\n",
       "      <td>50000.000000</td>\n",
       "      <td>50000.000000</td>\n",
       "      <td>50000.000000</td>\n",
       "      <td>50000.000000</td>\n",
       "      <td>50000.000000</td>\n",
       "    </tr>\n",
       "    <tr>\n",
       "      <th>mean</th>\n",
       "      <td>55888.396360</td>\n",
       "      <td>44.220420</td>\n",
       "      <td>0.306383</td>\n",
       "      <td>0.558241</td>\n",
       "      <td>2.212526e+05</td>\n",
       "      <td>0.599755</td>\n",
       "      <td>0.181601</td>\n",
       "      <td>0.193896</td>\n",
       "      <td>-9.133761</td>\n",
       "      <td>0.093586</td>\n",
       "      <td>0.456264</td>\n",
       "    </tr>\n",
       "    <tr>\n",
       "      <th>std</th>\n",
       "      <td>20725.256253</td>\n",
       "      <td>15.542008</td>\n",
       "      <td>0.341340</td>\n",
       "      <td>0.178632</td>\n",
       "      <td>1.286720e+05</td>\n",
       "      <td>0.264559</td>\n",
       "      <td>0.325409</td>\n",
       "      <td>0.161637</td>\n",
       "      <td>6.162990</td>\n",
       "      <td>0.101373</td>\n",
       "      <td>0.247119</td>\n",
       "    </tr>\n",
       "    <tr>\n",
       "      <th>min</th>\n",
       "      <td>20002.000000</td>\n",
       "      <td>0.000000</td>\n",
       "      <td>0.000000</td>\n",
       "      <td>0.059600</td>\n",
       "      <td>-1.000000e+00</td>\n",
       "      <td>0.000792</td>\n",
       "      <td>0.000000</td>\n",
       "      <td>0.009670</td>\n",
       "      <td>-47.046000</td>\n",
       "      <td>0.022300</td>\n",
       "      <td>0.000000</td>\n",
       "    </tr>\n",
       "    <tr>\n",
       "      <th>25%</th>\n",
       "      <td>37973.500000</td>\n",
       "      <td>34.000000</td>\n",
       "      <td>0.020000</td>\n",
       "      <td>0.442000</td>\n",
       "      <td>1.748000e+05</td>\n",
       "      <td>0.433000</td>\n",
       "      <td>0.000000</td>\n",
       "      <td>0.096900</td>\n",
       "      <td>-10.860000</td>\n",
       "      <td>0.036100</td>\n",
       "      <td>0.257000</td>\n",
       "    </tr>\n",
       "    <tr>\n",
       "      <th>50%</th>\n",
       "      <td>55913.500000</td>\n",
       "      <td>45.000000</td>\n",
       "      <td>0.144000</td>\n",
       "      <td>0.568000</td>\n",
       "      <td>2.192810e+05</td>\n",
       "      <td>0.643000</td>\n",
       "      <td>0.000158</td>\n",
       "      <td>0.126000</td>\n",
       "      <td>-7.276500</td>\n",
       "      <td>0.048900</td>\n",
       "      <td>0.448000</td>\n",
       "    </tr>\n",
       "    <tr>\n",
       "      <th>75%</th>\n",
       "      <td>73863.250000</td>\n",
       "      <td>56.000000</td>\n",
       "      <td>0.552000</td>\n",
       "      <td>0.687000</td>\n",
       "      <td>2.686122e+05</td>\n",
       "      <td>0.815000</td>\n",
       "      <td>0.155000</td>\n",
       "      <td>0.244000</td>\n",
       "      <td>-5.173000</td>\n",
       "      <td>0.098525</td>\n",
       "      <td>0.648000</td>\n",
       "    </tr>\n",
       "    <tr>\n",
       "      <th>max</th>\n",
       "      <td>91759.000000</td>\n",
       "      <td>99.000000</td>\n",
       "      <td>0.996000</td>\n",
       "      <td>0.986000</td>\n",
       "      <td>4.830606e+06</td>\n",
       "      <td>0.999000</td>\n",
       "      <td>0.996000</td>\n",
       "      <td>1.000000</td>\n",
       "      <td>3.744000</td>\n",
       "      <td>0.942000</td>\n",
       "      <td>0.992000</td>\n",
       "    </tr>\n",
       "  </tbody>\n",
       "</table>\n",
       "</div>"
      ],
      "text/plain": [
       "        instance_id    popularity  acousticness  danceability   duration_ms  \\\n",
       "count  50000.000000  50000.000000  50000.000000  50000.000000  5.000000e+04   \n",
       "mean   55888.396360     44.220420      0.306383      0.558241  2.212526e+05   \n",
       "std    20725.256253     15.542008      0.341340      0.178632  1.286720e+05   \n",
       "min    20002.000000      0.000000      0.000000      0.059600 -1.000000e+00   \n",
       "25%    37973.500000     34.000000      0.020000      0.442000  1.748000e+05   \n",
       "50%    55913.500000     45.000000      0.144000      0.568000  2.192810e+05   \n",
       "75%    73863.250000     56.000000      0.552000      0.687000  2.686122e+05   \n",
       "max    91759.000000     99.000000      0.996000      0.986000  4.830606e+06   \n",
       "\n",
       "             energy  instrumentalness      liveness      loudness  \\\n",
       "count  50000.000000      50000.000000  50000.000000  50000.000000   \n",
       "mean       0.599755          0.181601      0.193896     -9.133761   \n",
       "std        0.264559          0.325409      0.161637      6.162990   \n",
       "min        0.000792          0.000000      0.009670    -47.046000   \n",
       "25%        0.433000          0.000000      0.096900    -10.860000   \n",
       "50%        0.643000          0.000158      0.126000     -7.276500   \n",
       "75%        0.815000          0.155000      0.244000     -5.173000   \n",
       "max        0.999000          0.996000      1.000000      3.744000   \n",
       "\n",
       "        speechiness       valence  \n",
       "count  50000.000000  50000.000000  \n",
       "mean       0.093586      0.456264  \n",
       "std        0.101373      0.247119  \n",
       "min        0.022300      0.000000  \n",
       "25%        0.036100      0.257000  \n",
       "50%        0.048900      0.448000  \n",
       "75%        0.098525      0.648000  \n",
       "max        0.942000      0.992000  "
      ]
     },
     "execution_count": 316,
     "metadata": {},
     "output_type": "execute_result"
    }
   ],
   "source": [
    "df.describe()"
   ]
  },
  {
   "cell_type": "code",
   "execution_count": null,
   "id": "317fc420-4dd5-45f6-9ff1-19be3e49cc4e",
   "metadata": {},
   "outputs": [],
   "source": []
  },
  {
   "cell_type": "markdown",
   "id": "c93c5283-6aa4-4574-9bb2-e93fc3423467",
   "metadata": {},
   "source": [
    "##### let's drop the following columns which won't contribute to the model using domain knowledge.\n",
    "1. instance_id\n",
    "2. track_name\n",
    "3. obtained_date\n",
    "4. duration_ms"
   ]
  },
  {
   "cell_type": "code",
   "execution_count": 317,
   "id": "cffa314a-4eac-4526-9032-bb87f8585c59",
   "metadata": {},
   "outputs": [],
   "source": [
    "df.drop([\"instance_id\", \"obtained_date\", \"track_name\", \"duration_ms\"], axis=1, inplace=True)"
   ]
  },
  {
   "cell_type": "code",
   "execution_count": null,
   "id": "d5cdabae-1d4b-4743-a094-7d1f522b8a75",
   "metadata": {},
   "outputs": [],
   "source": []
  },
  {
   "cell_type": "markdown",
   "id": "736e35de-9a6a-4905-a892-e7658cfe9b8f",
   "metadata": {},
   "source": [
    "Some names were not provided for some artists, which could have bettered performance i.e. empty_field. Hence we remove them"
   ]
  },
  {
   "cell_type": "code",
   "execution_count": 318,
   "id": "8c922fab-4bbe-47c2-9b90-53cfd482cf67",
   "metadata": {},
   "outputs": [
    {
     "data": {
      "text/plain": [
       "artist_name\n",
       "empty_field                2489\n",
       "Nobuo Uematsu               429\n",
       "Wolfgang Amadeus Mozart     402\n",
       "Ludwig van Beethoven        317\n",
       "Johann Sebastian Bach       314\n",
       "                           ... \n",
       "Ward Davis                    1\n",
       "A.A. Bondy                    1\n",
       "Iris DeMent                   1\n",
       "Mac Davis                     1\n",
       "Millonario                    1\n",
       "Name: count, Length: 6863, dtype: int64"
      ]
     },
     "execution_count": 318,
     "metadata": {},
     "output_type": "execute_result"
    }
   ],
   "source": [
    "df['artist_name'].value_counts()"
   ]
  },
  {
   "cell_type": "code",
   "execution_count": 319,
   "id": "7adaa662-8ce6-4090-b755-689375fe8d54",
   "metadata": {},
   "outputs": [],
   "source": [
    "df = df[df['artist_name'] != 'empty_field']"
   ]
  },
  {
   "cell_type": "code",
   "execution_count": null,
   "id": "c479465c-fd1b-4151-aefd-b467dc7724e1",
   "metadata": {},
   "outputs": [],
   "source": []
  },
  {
   "cell_type": "code",
   "execution_count": 320,
   "id": "ae013dfa-7582-445c-acc7-de904de840e2",
   "metadata": {},
   "outputs": [
    {
     "name": "stdout",
     "output_type": "stream",
     "text": [
      "Columns with categorical variables are: ['artist_name', 'key', 'mode', 'tempo', 'music_genre'] \n",
      "\n",
      "Categorical Features: 5 \n",
      "\n",
      "Columns with numerical values are: ['popularity', 'acousticness', 'danceability', 'energy', 'instrumentalness', 'liveness', 'loudness', 'speechiness', 'valence'] \n",
      "\n",
      "Numerical Features: 9\n"
     ]
    }
   ],
   "source": [
    "# data variables are object ar boolean\n",
    "\n",
    "cat_cols = list(df.dtypes[df.dtypes == 'object'].index)\n",
    "print(f'Columns with categorical variables are: {cat_cols} \\n')\n",
    "print(f'Categorical Features: {len(cat_cols)} \\n')\n",
    "\n",
    "\n",
    "num_cols = list(df.dtypes[df.dtypes == 'float64'].index)\n",
    "print(f'Columns with numerical values are: {num_cols} \\n')\n",
    "print(f'Numerical Features: {len(num_cols)}')"
   ]
  },
  {
   "cell_type": "code",
   "execution_count": null,
   "id": "fedd91a2-2fb8-4fec-872e-df69f3c1deb8",
   "metadata": {},
   "outputs": [],
   "source": []
  },
  {
   "cell_type": "code",
   "execution_count": 321,
   "id": "20e3d841-f3f3-4de7-bb8b-38b214328d2b",
   "metadata": {},
   "outputs": [
    {
     "data": {
      "text/plain": [
       "tempo\n",
       "?                     4720\n",
       "140.007                 16\n",
       "120.0                   16\n",
       "100.00299999999999      16\n",
       "130.016                 15\n",
       "                      ... \n",
       "144.249                  1\n",
       "132.74                   1\n",
       "86.073                   1\n",
       "160.488                  1\n",
       "99.20100000000001        1\n",
       "Name: count, Length: 28373, dtype: int64"
      ]
     },
     "execution_count": 321,
     "metadata": {},
     "output_type": "execute_result"
    }
   ],
   "source": [
    "df.tempo.value_counts()"
   ]
  },
  {
   "cell_type": "code",
   "execution_count": 322,
   "id": "2d3995cc-fc13-4472-a724-e7d9242f1a1b",
   "metadata": {},
   "outputs": [
    {
     "data": {
      "text/html": [
       "<div>\n",
       "<style scoped>\n",
       "    .dataframe tbody tr th:only-of-type {\n",
       "        vertical-align: middle;\n",
       "    }\n",
       "\n",
       "    .dataframe tbody tr th {\n",
       "        vertical-align: top;\n",
       "    }\n",
       "\n",
       "    .dataframe thead th {\n",
       "        text-align: right;\n",
       "    }\n",
       "</style>\n",
       "<table border=\"1\" class=\"dataframe\">\n",
       "  <thead>\n",
       "    <tr style=\"text-align: right;\">\n",
       "      <th></th>\n",
       "      <th>artist_name</th>\n",
       "      <th>popularity</th>\n",
       "      <th>acousticness</th>\n",
       "      <th>danceability</th>\n",
       "      <th>energy</th>\n",
       "      <th>instrumentalness</th>\n",
       "      <th>key</th>\n",
       "      <th>liveness</th>\n",
       "      <th>loudness</th>\n",
       "      <th>mode</th>\n",
       "      <th>speechiness</th>\n",
       "      <th>tempo</th>\n",
       "      <th>valence</th>\n",
       "      <th>music_genre</th>\n",
       "    </tr>\n",
       "  </thead>\n",
       "  <tbody>\n",
       "    <tr>\n",
       "      <th>5</th>\n",
       "      <td>Axel Boman</td>\n",
       "      <td>47.0</td>\n",
       "      <td>0.00523</td>\n",
       "      <td>0.755</td>\n",
       "      <td>0.731</td>\n",
       "      <td>0.854000</td>\n",
       "      <td>D</td>\n",
       "      <td>0.2160</td>\n",
       "      <td>-10.517</td>\n",
       "      <td>Minor</td>\n",
       "      <td>0.0412</td>\n",
       "      <td>?</td>\n",
       "      <td>0.6140</td>\n",
       "      <td>Electronic</td>\n",
       "    </tr>\n",
       "    <tr>\n",
       "      <th>32</th>\n",
       "      <td>PEEKABOO</td>\n",
       "      <td>45.0</td>\n",
       "      <td>0.02330</td>\n",
       "      <td>0.729</td>\n",
       "      <td>0.869</td>\n",
       "      <td>0.585000</td>\n",
       "      <td>F</td>\n",
       "      <td>0.0944</td>\n",
       "      <td>-7.569</td>\n",
       "      <td>Minor</td>\n",
       "      <td>0.1290</td>\n",
       "      <td>?</td>\n",
       "      <td>0.1380</td>\n",
       "      <td>Electronic</td>\n",
       "    </tr>\n",
       "    <tr>\n",
       "      <th>35</th>\n",
       "      <td>Fabian Mazur</td>\n",
       "      <td>33.0</td>\n",
       "      <td>0.10800</td>\n",
       "      <td>0.493</td>\n",
       "      <td>0.682</td>\n",
       "      <td>0.000000</td>\n",
       "      <td>A</td>\n",
       "      <td>0.1960</td>\n",
       "      <td>-5.781</td>\n",
       "      <td>Minor</td>\n",
       "      <td>0.2870</td>\n",
       "      <td>?</td>\n",
       "      <td>0.2390</td>\n",
       "      <td>Electronic</td>\n",
       "    </tr>\n",
       "    <tr>\n",
       "      <th>36</th>\n",
       "      <td>Wax Tailor</td>\n",
       "      <td>45.0</td>\n",
       "      <td>0.04780</td>\n",
       "      <td>0.646</td>\n",
       "      <td>0.649</td>\n",
       "      <td>0.002520</td>\n",
       "      <td>G</td>\n",
       "      <td>0.3530</td>\n",
       "      <td>-5.259</td>\n",
       "      <td>Major</td>\n",
       "      <td>0.1170</td>\n",
       "      <td>?</td>\n",
       "      <td>0.7270</td>\n",
       "      <td>Electronic</td>\n",
       "    </tr>\n",
       "    <tr>\n",
       "      <th>39</th>\n",
       "      <td>Dahu</td>\n",
       "      <td>37.0</td>\n",
       "      <td>0.20300</td>\n",
       "      <td>0.769</td>\n",
       "      <td>0.551</td>\n",
       "      <td>0.882000</td>\n",
       "      <td>A#</td>\n",
       "      <td>0.1090</td>\n",
       "      <td>-12.520</td>\n",
       "      <td>Minor</td>\n",
       "      <td>0.0408</td>\n",
       "      <td>?</td>\n",
       "      <td>0.0618</td>\n",
       "      <td>Electronic</td>\n",
       "    </tr>\n",
       "    <tr>\n",
       "      <th>...</th>\n",
       "      <td>...</td>\n",
       "      <td>...</td>\n",
       "      <td>...</td>\n",
       "      <td>...</td>\n",
       "      <td>...</td>\n",
       "      <td>...</td>\n",
       "      <td>...</td>\n",
       "      <td>...</td>\n",
       "      <td>...</td>\n",
       "      <td>...</td>\n",
       "      <td>...</td>\n",
       "      <td>...</td>\n",
       "      <td>...</td>\n",
       "      <td>...</td>\n",
       "    </tr>\n",
       "    <tr>\n",
       "      <th>49918</th>\n",
       "      <td>Big Sean</td>\n",
       "      <td>58.0</td>\n",
       "      <td>0.29600</td>\n",
       "      <td>0.379</td>\n",
       "      <td>0.644</td>\n",
       "      <td>0.000000</td>\n",
       "      <td>A#</td>\n",
       "      <td>0.3130</td>\n",
       "      <td>-7.933</td>\n",
       "      <td>Minor</td>\n",
       "      <td>0.1120</td>\n",
       "      <td>?</td>\n",
       "      <td>0.1440</td>\n",
       "      <td>Hip-Hop</td>\n",
       "    </tr>\n",
       "    <tr>\n",
       "      <th>49964</th>\n",
       "      <td>Millonario</td>\n",
       "      <td>59.0</td>\n",
       "      <td>0.08470</td>\n",
       "      <td>0.929</td>\n",
       "      <td>0.737</td>\n",
       "      <td>0.000000</td>\n",
       "      <td>G#</td>\n",
       "      <td>0.8610</td>\n",
       "      <td>-6.424</td>\n",
       "      <td>Major</td>\n",
       "      <td>0.1020</td>\n",
       "      <td>?</td>\n",
       "      <td>0.8860</td>\n",
       "      <td>Hip-Hop</td>\n",
       "    </tr>\n",
       "    <tr>\n",
       "      <th>49967</th>\n",
       "      <td>MadeinTYO</td>\n",
       "      <td>62.0</td>\n",
       "      <td>0.17900</td>\n",
       "      <td>0.860</td>\n",
       "      <td>0.625</td>\n",
       "      <td>0.000136</td>\n",
       "      <td>D</td>\n",
       "      <td>0.3000</td>\n",
       "      <td>-6.922</td>\n",
       "      <td>Major</td>\n",
       "      <td>0.1050</td>\n",
       "      <td>?</td>\n",
       "      <td>0.2210</td>\n",
       "      <td>Hip-Hop</td>\n",
       "    </tr>\n",
       "    <tr>\n",
       "      <th>49976</th>\n",
       "      <td>Big Sean</td>\n",
       "      <td>52.0</td>\n",
       "      <td>0.70000</td>\n",
       "      <td>0.462</td>\n",
       "      <td>0.741</td>\n",
       "      <td>0.000000</td>\n",
       "      <td>A#</td>\n",
       "      <td>0.3400</td>\n",
       "      <td>-8.008</td>\n",
       "      <td>Minor</td>\n",
       "      <td>0.1620</td>\n",
       "      <td>?</td>\n",
       "      <td>0.5890</td>\n",
       "      <td>Hip-Hop</td>\n",
       "    </tr>\n",
       "    <tr>\n",
       "      <th>49977</th>\n",
       "      <td>Nate Dogg</td>\n",
       "      <td>58.0</td>\n",
       "      <td>0.10500</td>\n",
       "      <td>0.905</td>\n",
       "      <td>0.414</td>\n",
       "      <td>0.000366</td>\n",
       "      <td>G#</td>\n",
       "      <td>0.0914</td>\n",
       "      <td>-8.112</td>\n",
       "      <td>Minor</td>\n",
       "      <td>0.0615</td>\n",
       "      <td>?</td>\n",
       "      <td>0.7580</td>\n",
       "      <td>Hip-Hop</td>\n",
       "    </tr>\n",
       "  </tbody>\n",
       "</table>\n",
       "<p>4720 rows × 14 columns</p>\n",
       "</div>"
      ],
      "text/plain": [
       "        artist_name  popularity  acousticness  danceability  energy  \\\n",
       "5        Axel Boman        47.0       0.00523         0.755   0.731   \n",
       "32         PEEKABOO        45.0       0.02330         0.729   0.869   \n",
       "35     Fabian Mazur        33.0       0.10800         0.493   0.682   \n",
       "36       Wax Tailor        45.0       0.04780         0.646   0.649   \n",
       "39             Dahu        37.0       0.20300         0.769   0.551   \n",
       "...             ...         ...           ...           ...     ...   \n",
       "49918      Big Sean        58.0       0.29600         0.379   0.644   \n",
       "49964    Millonario        59.0       0.08470         0.929   0.737   \n",
       "49967     MadeinTYO        62.0       0.17900         0.860   0.625   \n",
       "49976      Big Sean        52.0       0.70000         0.462   0.741   \n",
       "49977     Nate Dogg        58.0       0.10500         0.905   0.414   \n",
       "\n",
       "       instrumentalness key  liveness  loudness   mode  speechiness tempo  \\\n",
       "5              0.854000   D    0.2160   -10.517  Minor       0.0412     ?   \n",
       "32             0.585000   F    0.0944    -7.569  Minor       0.1290     ?   \n",
       "35             0.000000   A    0.1960    -5.781  Minor       0.2870     ?   \n",
       "36             0.002520   G    0.3530    -5.259  Major       0.1170     ?   \n",
       "39             0.882000  A#    0.1090   -12.520  Minor       0.0408     ?   \n",
       "...                 ...  ..       ...       ...    ...          ...   ...   \n",
       "49918          0.000000  A#    0.3130    -7.933  Minor       0.1120     ?   \n",
       "49964          0.000000  G#    0.8610    -6.424  Major       0.1020     ?   \n",
       "49967          0.000136   D    0.3000    -6.922  Major       0.1050     ?   \n",
       "49976          0.000000  A#    0.3400    -8.008  Minor       0.1620     ?   \n",
       "49977          0.000366  G#    0.0914    -8.112  Minor       0.0615     ?   \n",
       "\n",
       "       valence music_genre  \n",
       "5       0.6140  Electronic  \n",
       "32      0.1380  Electronic  \n",
       "35      0.2390  Electronic  \n",
       "36      0.7270  Electronic  \n",
       "39      0.0618  Electronic  \n",
       "...        ...         ...  \n",
       "49918   0.1440     Hip-Hop  \n",
       "49964   0.8860     Hip-Hop  \n",
       "49967   0.2210     Hip-Hop  \n",
       "49976   0.5890     Hip-Hop  \n",
       "49977   0.7580     Hip-Hop  \n",
       "\n",
       "[4720 rows x 14 columns]"
      ]
     },
     "execution_count": 322,
     "metadata": {},
     "output_type": "execute_result"
    }
   ],
   "source": [
    "df[df[\"tempo\"] == \"?\"]"
   ]
  },
  {
   "cell_type": "code",
   "execution_count": null,
   "id": "15781df1-f28d-4fe2-ae56-0efd59029b9e",
   "metadata": {},
   "outputs": [],
   "source": []
  },
  {
   "cell_type": "markdown",
   "id": "99af5799-30be-4aa3-b85d-e7eb787aee0b",
   "metadata": {},
   "source": [
    "##### Also, we need to drop \"?\" values in the tempo column since we cannot ascribe it with something else.\n",
    "Then convert it to a float"
   ]
  },
  {
   "cell_type": "code",
   "execution_count": 323,
   "id": "11451469-49ad-4b14-b79b-821360b2f90c",
   "metadata": {},
   "outputs": [],
   "source": [
    "df = df.drop(df[df[\"tempo\"] == \"?\"].index)\n",
    "\n",
    "df[\"tempo\"] = df[\"tempo\"].astype(\"float64\")"
   ]
  },
  {
   "cell_type": "code",
   "execution_count": 324,
   "id": "89247fe8-0331-439f-a24d-b8dc6f6d3cff",
   "metadata": {},
   "outputs": [
    {
     "data": {
      "text/plain": [
       "artist_name          object\n",
       "popularity          float64\n",
       "acousticness        float64\n",
       "danceability        float64\n",
       "energy              float64\n",
       "instrumentalness    float64\n",
       "key                  object\n",
       "liveness            float64\n",
       "loudness            float64\n",
       "mode                 object\n",
       "speechiness         float64\n",
       "tempo               float64\n",
       "valence             float64\n",
       "music_genre          object\n",
       "dtype: object"
      ]
     },
     "execution_count": 324,
     "metadata": {},
     "output_type": "execute_result"
    }
   ],
   "source": [
    "df.dtypes"
   ]
  },
  {
   "cell_type": "code",
   "execution_count": 325,
   "id": "17f89893-2f41-4226-995a-0879986e5d38",
   "metadata": {},
   "outputs": [
    {
     "data": {
      "text/plain": [
       "(42791, 14)"
      ]
     },
     "execution_count": 325,
     "metadata": {},
     "output_type": "execute_result"
    }
   ],
   "source": [
    "df.shape"
   ]
  },
  {
   "cell_type": "code",
   "execution_count": 326,
   "id": "f843b88d-e7d2-4e42-a45a-c9a50877c966",
   "metadata": {},
   "outputs": [
    {
     "data": {
      "text/html": [
       "<div>\n",
       "<style scoped>\n",
       "    .dataframe tbody tr th:only-of-type {\n",
       "        vertical-align: middle;\n",
       "    }\n",
       "\n",
       "    .dataframe tbody tr th {\n",
       "        vertical-align: top;\n",
       "    }\n",
       "\n",
       "    .dataframe thead th {\n",
       "        text-align: right;\n",
       "    }\n",
       "</style>\n",
       "<table border=\"1\" class=\"dataframe\">\n",
       "  <thead>\n",
       "    <tr style=\"text-align: right;\">\n",
       "      <th></th>\n",
       "      <th>artist_name</th>\n",
       "      <th>popularity</th>\n",
       "      <th>acousticness</th>\n",
       "      <th>danceability</th>\n",
       "      <th>energy</th>\n",
       "      <th>instrumentalness</th>\n",
       "      <th>key</th>\n",
       "      <th>liveness</th>\n",
       "      <th>loudness</th>\n",
       "      <th>mode</th>\n",
       "      <th>speechiness</th>\n",
       "      <th>tempo</th>\n",
       "      <th>valence</th>\n",
       "      <th>music_genre</th>\n",
       "    </tr>\n",
       "  </thead>\n",
       "  <tbody>\n",
       "    <tr>\n",
       "      <th>0</th>\n",
       "      <td>Röyksopp</td>\n",
       "      <td>27.0</td>\n",
       "      <td>0.00468</td>\n",
       "      <td>0.652</td>\n",
       "      <td>0.941</td>\n",
       "      <td>0.79200</td>\n",
       "      <td>A#</td>\n",
       "      <td>0.115</td>\n",
       "      <td>-5.201</td>\n",
       "      <td>Minor</td>\n",
       "      <td>0.0748</td>\n",
       "      <td>100.889</td>\n",
       "      <td>0.759</td>\n",
       "      <td>Electronic</td>\n",
       "    </tr>\n",
       "    <tr>\n",
       "      <th>1</th>\n",
       "      <td>Thievery Corporation</td>\n",
       "      <td>31.0</td>\n",
       "      <td>0.01270</td>\n",
       "      <td>0.622</td>\n",
       "      <td>0.890</td>\n",
       "      <td>0.95000</td>\n",
       "      <td>D</td>\n",
       "      <td>0.124</td>\n",
       "      <td>-7.043</td>\n",
       "      <td>Minor</td>\n",
       "      <td>0.0300</td>\n",
       "      <td>115.002</td>\n",
       "      <td>0.531</td>\n",
       "      <td>Electronic</td>\n",
       "    </tr>\n",
       "    <tr>\n",
       "      <th>2</th>\n",
       "      <td>Dillon Francis</td>\n",
       "      <td>28.0</td>\n",
       "      <td>0.00306</td>\n",
       "      <td>0.620</td>\n",
       "      <td>0.755</td>\n",
       "      <td>0.01180</td>\n",
       "      <td>G#</td>\n",
       "      <td>0.534</td>\n",
       "      <td>-4.617</td>\n",
       "      <td>Major</td>\n",
       "      <td>0.0345</td>\n",
       "      <td>127.994</td>\n",
       "      <td>0.333</td>\n",
       "      <td>Electronic</td>\n",
       "    </tr>\n",
       "    <tr>\n",
       "      <th>3</th>\n",
       "      <td>Dubloadz</td>\n",
       "      <td>34.0</td>\n",
       "      <td>0.02540</td>\n",
       "      <td>0.774</td>\n",
       "      <td>0.700</td>\n",
       "      <td>0.00253</td>\n",
       "      <td>C#</td>\n",
       "      <td>0.157</td>\n",
       "      <td>-4.498</td>\n",
       "      <td>Major</td>\n",
       "      <td>0.2390</td>\n",
       "      <td>128.014</td>\n",
       "      <td>0.270</td>\n",
       "      <td>Electronic</td>\n",
       "    </tr>\n",
       "    <tr>\n",
       "      <th>4</th>\n",
       "      <td>What So Not</td>\n",
       "      <td>32.0</td>\n",
       "      <td>0.00465</td>\n",
       "      <td>0.638</td>\n",
       "      <td>0.587</td>\n",
       "      <td>0.90900</td>\n",
       "      <td>F#</td>\n",
       "      <td>0.157</td>\n",
       "      <td>-6.266</td>\n",
       "      <td>Major</td>\n",
       "      <td>0.0413</td>\n",
       "      <td>145.036</td>\n",
       "      <td>0.323</td>\n",
       "      <td>Electronic</td>\n",
       "    </tr>\n",
       "  </tbody>\n",
       "</table>\n",
       "</div>"
      ],
      "text/plain": [
       "            artist_name  popularity  acousticness  danceability  energy  \\\n",
       "0              Röyksopp        27.0       0.00468         0.652   0.941   \n",
       "1  Thievery Corporation        31.0       0.01270         0.622   0.890   \n",
       "2        Dillon Francis        28.0       0.00306         0.620   0.755   \n",
       "3              Dubloadz        34.0       0.02540         0.774   0.700   \n",
       "4           What So Not        32.0       0.00465         0.638   0.587   \n",
       "\n",
       "   instrumentalness key  liveness  loudness   mode  speechiness    tempo  \\\n",
       "0           0.79200  A#     0.115    -5.201  Minor       0.0748  100.889   \n",
       "1           0.95000   D     0.124    -7.043  Minor       0.0300  115.002   \n",
       "2           0.01180  G#     0.534    -4.617  Major       0.0345  127.994   \n",
       "3           0.00253  C#     0.157    -4.498  Major       0.2390  128.014   \n",
       "4           0.90900  F#     0.157    -6.266  Major       0.0413  145.036   \n",
       "\n",
       "   valence music_genre  \n",
       "0    0.759  Electronic  \n",
       "1    0.531  Electronic  \n",
       "2    0.333  Electronic  \n",
       "3    0.270  Electronic  \n",
       "4    0.323  Electronic  "
      ]
     },
     "execution_count": 326,
     "metadata": {},
     "output_type": "execute_result"
    }
   ],
   "source": [
    "df.head()"
   ]
  },
  {
   "cell_type": "code",
   "execution_count": 327,
   "id": "933cf4a0-3a13-48b0-a113-66aa8ed16cd7",
   "metadata": {},
   "outputs": [],
   "source": [
    "df = df.reset_index(drop=True)"
   ]
  },
  {
   "cell_type": "code",
   "execution_count": 328,
   "id": "e4cb7bc1-eef1-4dce-955c-06c60bceb0ce",
   "metadata": {},
   "outputs": [
    {
     "name": "stdout",
     "output_type": "stream",
     "text": [
      "Columns with categorical variables are: ['artist_name', 'key', 'mode', 'music_genre'] \n",
      "\n",
      "Categorical Features: 4 \n",
      "\n",
      "Columns with numerical values are: ['popularity', 'acousticness', 'danceability', 'energy', 'instrumentalness', 'liveness', 'loudness', 'speechiness', 'tempo', 'valence'] \n",
      "\n",
      "Numerical Features: 10\n"
     ]
    }
   ],
   "source": [
    "# data variables are object or boolean\n",
    "\n",
    "cat_cols = list(df.dtypes[df.dtypes == 'object'].index)\n",
    "print(f'Columns with categorical variables are: {cat_cols} \\n')\n",
    "print(f'Categorical Features: {len(cat_cols)} \\n')\n",
    "\n",
    "\n",
    "num_cols = list(df.dtypes[df.dtypes == 'float64'].index)\n",
    "print(f'Columns with numerical values are: {num_cols} \\n')\n",
    "print(f'Numerical Features: {len(num_cols)}')"
   ]
  },
  {
   "cell_type": "code",
   "execution_count": null,
   "id": "a7d044f0-2c05-4fec-a353-1aa85597a16a",
   "metadata": {},
   "outputs": [],
   "source": []
  },
  {
   "cell_type": "markdown",
   "id": "6fc33cbd-4a95-40f9-8b88-70cd42329110",
   "metadata": {},
   "source": [
    "## Validation, Testing & Prediction"
   ]
  },
  {
   "cell_type": "code",
   "execution_count": 329,
   "id": "a6167f69-c73a-4477-8f52-4d33b551d1ec",
   "metadata": {},
   "outputs": [
    {
     "data": {
      "text/plain": [
       "(42791, 14)"
      ]
     },
     "execution_count": 329,
     "metadata": {},
     "output_type": "execute_result"
    }
   ],
   "source": [
    "df.shape"
   ]
  },
  {
   "cell_type": "markdown",
   "id": "1dfb1f28-5323-4245-affc-f914c4f10fba",
   "metadata": {},
   "source": [
    "##### Replace values in mode to binary"
   ]
  },
  {
   "cell_type": "code",
   "execution_count": 330,
   "id": "fdb47ee5-0392-46fb-b732-05d11933e4e1",
   "metadata": {},
   "outputs": [],
   "source": [
    "# create a dictionary of replacements\n",
    "replacements = {'Minor': 0, 'Major': 1}\n",
    "\n",
    "# replace values using the .map() method\n",
    "df['mode'] = df['mode'].map(replacements)"
   ]
  },
  {
   "cell_type": "code",
   "execution_count": null,
   "id": "11fb700a-7081-4318-bba3-07ead2126b75",
   "metadata": {},
   "outputs": [],
   "source": []
  },
  {
   "cell_type": "markdown",
   "id": "be60baa5-9b44-463a-b622-1799c60949c1",
   "metadata": {},
   "source": [
    "#### apply one hot encoding for values in 'Key' column "
   ]
  },
  {
   "cell_type": "code",
   "execution_count": 331,
   "id": "677e5012-9bef-4646-819a-9053a3fadfb3",
   "metadata": {},
   "outputs": [],
   "source": [
    "ohe = OneHotEncoder(handle_unknown = 'ignore', sparse_output=False).set_output(transform = \"pandas\")"
   ]
  },
  {
   "cell_type": "code",
   "execution_count": 332,
   "id": "7cb0f028-02ef-4c40-8b97-9f1cc6f3a10d",
   "metadata": {},
   "outputs": [],
   "source": [
    "ohetransform = ohe.fit_transform(df[['key']])"
   ]
  },
  {
   "cell_type": "code",
   "execution_count": 333,
   "id": "c781430a-88e4-45fe-8a7b-fffb0a333d8e",
   "metadata": {},
   "outputs": [
    {
     "data": {
      "text/html": [
       "<div>\n",
       "<style scoped>\n",
       "    .dataframe tbody tr th:only-of-type {\n",
       "        vertical-align: middle;\n",
       "    }\n",
       "\n",
       "    .dataframe tbody tr th {\n",
       "        vertical-align: top;\n",
       "    }\n",
       "\n",
       "    .dataframe thead th {\n",
       "        text-align: right;\n",
       "    }\n",
       "</style>\n",
       "<table border=\"1\" class=\"dataframe\">\n",
       "  <thead>\n",
       "    <tr style=\"text-align: right;\">\n",
       "      <th></th>\n",
       "      <th>key_A</th>\n",
       "      <th>key_A#</th>\n",
       "      <th>key_B</th>\n",
       "      <th>key_C</th>\n",
       "      <th>key_C#</th>\n",
       "      <th>key_D</th>\n",
       "      <th>key_D#</th>\n",
       "      <th>key_E</th>\n",
       "      <th>key_F</th>\n",
       "      <th>key_F#</th>\n",
       "      <th>key_G</th>\n",
       "      <th>key_G#</th>\n",
       "    </tr>\n",
       "  </thead>\n",
       "  <tbody>\n",
       "    <tr>\n",
       "      <th>0</th>\n",
       "      <td>0.0</td>\n",
       "      <td>1.0</td>\n",
       "      <td>0.0</td>\n",
       "      <td>0.0</td>\n",
       "      <td>0.0</td>\n",
       "      <td>0.0</td>\n",
       "      <td>0.0</td>\n",
       "      <td>0.0</td>\n",
       "      <td>0.0</td>\n",
       "      <td>0.0</td>\n",
       "      <td>0.0</td>\n",
       "      <td>0.0</td>\n",
       "    </tr>\n",
       "    <tr>\n",
       "      <th>1</th>\n",
       "      <td>0.0</td>\n",
       "      <td>0.0</td>\n",
       "      <td>0.0</td>\n",
       "      <td>0.0</td>\n",
       "      <td>0.0</td>\n",
       "      <td>1.0</td>\n",
       "      <td>0.0</td>\n",
       "      <td>0.0</td>\n",
       "      <td>0.0</td>\n",
       "      <td>0.0</td>\n",
       "      <td>0.0</td>\n",
       "      <td>0.0</td>\n",
       "    </tr>\n",
       "    <tr>\n",
       "      <th>2</th>\n",
       "      <td>0.0</td>\n",
       "      <td>0.0</td>\n",
       "      <td>0.0</td>\n",
       "      <td>0.0</td>\n",
       "      <td>0.0</td>\n",
       "      <td>0.0</td>\n",
       "      <td>0.0</td>\n",
       "      <td>0.0</td>\n",
       "      <td>0.0</td>\n",
       "      <td>0.0</td>\n",
       "      <td>0.0</td>\n",
       "      <td>1.0</td>\n",
       "    </tr>\n",
       "  </tbody>\n",
       "</table>\n",
       "</div>"
      ],
      "text/plain": [
       "   key_A  key_A#  key_B  key_C  key_C#  key_D  key_D#  key_E  key_F  key_F#  \\\n",
       "0    0.0     1.0    0.0    0.0     0.0    0.0     0.0    0.0    0.0     0.0   \n",
       "1    0.0     0.0    0.0    0.0     0.0    1.0     0.0    0.0    0.0     0.0   \n",
       "2    0.0     0.0    0.0    0.0     0.0    0.0     0.0    0.0    0.0     0.0   \n",
       "\n",
       "   key_G  key_G#  \n",
       "0    0.0     0.0  \n",
       "1    0.0     0.0  \n",
       "2    0.0     1.0  "
      ]
     },
     "execution_count": 333,
     "metadata": {},
     "output_type": "execute_result"
    }
   ],
   "source": [
    "ohetransform.head(3)"
   ]
  },
  {
   "cell_type": "code",
   "execution_count": 334,
   "id": "00381057-0f14-45f1-bfe1-8244be3958c5",
   "metadata": {},
   "outputs": [],
   "source": [
    "df = pd.concat([df, ohetransform], axis=1).drop(columns=['key'])"
   ]
  },
  {
   "cell_type": "code",
   "execution_count": 335,
   "id": "f1882c44-cbdc-4fce-8374-3a23137d2778",
   "metadata": {},
   "outputs": [
    {
     "data": {
      "text/html": [
       "<div>\n",
       "<style scoped>\n",
       "    .dataframe tbody tr th:only-of-type {\n",
       "        vertical-align: middle;\n",
       "    }\n",
       "\n",
       "    .dataframe tbody tr th {\n",
       "        vertical-align: top;\n",
       "    }\n",
       "\n",
       "    .dataframe thead th {\n",
       "        text-align: right;\n",
       "    }\n",
       "</style>\n",
       "<table border=\"1\" class=\"dataframe\">\n",
       "  <thead>\n",
       "    <tr style=\"text-align: right;\">\n",
       "      <th></th>\n",
       "      <th>artist_name</th>\n",
       "      <th>popularity</th>\n",
       "      <th>acousticness</th>\n",
       "      <th>danceability</th>\n",
       "      <th>energy</th>\n",
       "      <th>instrumentalness</th>\n",
       "      <th>liveness</th>\n",
       "      <th>loudness</th>\n",
       "      <th>mode</th>\n",
       "      <th>speechiness</th>\n",
       "      <th>tempo</th>\n",
       "      <th>valence</th>\n",
       "      <th>music_genre</th>\n",
       "      <th>key_A</th>\n",
       "      <th>key_A#</th>\n",
       "      <th>key_B</th>\n",
       "      <th>key_C</th>\n",
       "      <th>key_C#</th>\n",
       "      <th>key_D</th>\n",
       "      <th>key_D#</th>\n",
       "      <th>key_E</th>\n",
       "      <th>key_F</th>\n",
       "      <th>key_F#</th>\n",
       "      <th>key_G</th>\n",
       "      <th>key_G#</th>\n",
       "    </tr>\n",
       "  </thead>\n",
       "  <tbody>\n",
       "    <tr>\n",
       "      <th>0</th>\n",
       "      <td>Röyksopp</td>\n",
       "      <td>27.0</td>\n",
       "      <td>0.00468</td>\n",
       "      <td>0.652</td>\n",
       "      <td>0.941</td>\n",
       "      <td>0.792</td>\n",
       "      <td>0.115</td>\n",
       "      <td>-5.201</td>\n",
       "      <td>0</td>\n",
       "      <td>0.0748</td>\n",
       "      <td>100.889</td>\n",
       "      <td>0.759</td>\n",
       "      <td>Electronic</td>\n",
       "      <td>0.0</td>\n",
       "      <td>1.0</td>\n",
       "      <td>0.0</td>\n",
       "      <td>0.0</td>\n",
       "      <td>0.0</td>\n",
       "      <td>0.0</td>\n",
       "      <td>0.0</td>\n",
       "      <td>0.0</td>\n",
       "      <td>0.0</td>\n",
       "      <td>0.0</td>\n",
       "      <td>0.0</td>\n",
       "      <td>0.0</td>\n",
       "    </tr>\n",
       "    <tr>\n",
       "      <th>1</th>\n",
       "      <td>Thievery Corporation</td>\n",
       "      <td>31.0</td>\n",
       "      <td>0.01270</td>\n",
       "      <td>0.622</td>\n",
       "      <td>0.890</td>\n",
       "      <td>0.950</td>\n",
       "      <td>0.124</td>\n",
       "      <td>-7.043</td>\n",
       "      <td>0</td>\n",
       "      <td>0.0300</td>\n",
       "      <td>115.002</td>\n",
       "      <td>0.531</td>\n",
       "      <td>Electronic</td>\n",
       "      <td>0.0</td>\n",
       "      <td>0.0</td>\n",
       "      <td>0.0</td>\n",
       "      <td>0.0</td>\n",
       "      <td>0.0</td>\n",
       "      <td>1.0</td>\n",
       "      <td>0.0</td>\n",
       "      <td>0.0</td>\n",
       "      <td>0.0</td>\n",
       "      <td>0.0</td>\n",
       "      <td>0.0</td>\n",
       "      <td>0.0</td>\n",
       "    </tr>\n",
       "  </tbody>\n",
       "</table>\n",
       "</div>"
      ],
      "text/plain": [
       "            artist_name  popularity  acousticness  danceability  energy  \\\n",
       "0              Röyksopp        27.0       0.00468         0.652   0.941   \n",
       "1  Thievery Corporation        31.0       0.01270         0.622   0.890   \n",
       "\n",
       "   instrumentalness  liveness  loudness  mode  speechiness    tempo  valence  \\\n",
       "0             0.792     0.115    -5.201     0       0.0748  100.889    0.759   \n",
       "1             0.950     0.124    -7.043     0       0.0300  115.002    0.531   \n",
       "\n",
       "  music_genre  key_A  key_A#  key_B  key_C  key_C#  key_D  key_D#  key_E  \\\n",
       "0  Electronic    0.0     1.0    0.0    0.0     0.0    0.0     0.0    0.0   \n",
       "1  Electronic    0.0     0.0    0.0    0.0     0.0    1.0     0.0    0.0   \n",
       "\n",
       "   key_F  key_F#  key_G  key_G#  \n",
       "0    0.0     0.0    0.0     0.0  \n",
       "1    0.0     0.0    0.0     0.0  "
      ]
     },
     "execution_count": 335,
     "metadata": {},
     "output_type": "execute_result"
    }
   ],
   "source": [
    "df.head(2)"
   ]
  },
  {
   "cell_type": "code",
   "execution_count": 336,
   "id": "fe3a836e-14b0-42f8-b952-9418884c8c12",
   "metadata": {},
   "outputs": [
    {
     "data": {
      "text/plain": [
       "(42791, 25)"
      ]
     },
     "execution_count": 336,
     "metadata": {},
     "output_type": "execute_result"
    }
   ],
   "source": [
    "df.shape"
   ]
  },
  {
   "cell_type": "code",
   "execution_count": 337,
   "id": "2c7aa5d1-6b2e-4d92-83d0-3aa5e94b1825",
   "metadata": {},
   "outputs": [
    {
     "data": {
      "text/plain": [
       "Index(['artist_name', 'popularity', 'acousticness', 'danceability', 'energy',\n",
       "       'instrumentalness', 'liveness', 'loudness', 'mode', 'speechiness',\n",
       "       'tempo', 'valence', 'music_genre', 'key_A', 'key_A#', 'key_B', 'key_C',\n",
       "       'key_C#', 'key_D', 'key_D#', 'key_E', 'key_F', 'key_F#', 'key_G',\n",
       "       'key_G#'],\n",
       "      dtype='object')"
      ]
     },
     "execution_count": 337,
     "metadata": {},
     "output_type": "execute_result"
    }
   ],
   "source": [
    "df.columns"
   ]
  },
  {
   "cell_type": "code",
   "execution_count": 338,
   "id": "d9585fe4-8650-41e1-b1df-c4d19f991d79",
   "metadata": {},
   "outputs": [],
   "source": [
    "# split data set to 60/20/20 for validation and testing\n",
    "data_full_train, data_test = train_test_split(df, test_size=0.2, random_state=42)\n",
    "data_train, data_val = train_test_split(data_full_train, test_size=0.25, random_state=42)"
   ]
  },
  {
   "cell_type": "code",
   "execution_count": null,
   "id": "09d719bf-0964-45d7-aedd-3e3b94555a4a",
   "metadata": {},
   "outputs": [],
   "source": []
  },
  {
   "cell_type": "code",
   "execution_count": 339,
   "id": "4202d121-7ff9-4ebf-a7d6-f05c2e923077",
   "metadata": {},
   "outputs": [
    {
     "data": {
      "text/plain": [
       "(34232, 8559)"
      ]
     },
     "execution_count": 339,
     "metadata": {},
     "output_type": "execute_result"
    }
   ],
   "source": [
    "len(data_full_train), len(data_test)"
   ]
  },
  {
   "cell_type": "code",
   "execution_count": 340,
   "id": "74508daf-1074-47c9-93ee-513f9bdbcb59",
   "metadata": {},
   "outputs": [
    {
     "data": {
      "text/plain": [
       "(25674, 8558, 8559)"
      ]
     },
     "execution_count": 340,
     "metadata": {},
     "output_type": "execute_result"
    }
   ],
   "source": [
    "len(data_train), len(data_val), len(data_test)"
   ]
  },
  {
   "cell_type": "code",
   "execution_count": 341,
   "id": "7a1580eb-a317-4215-96fe-17dd0ff8e2b8",
   "metadata": {},
   "outputs": [],
   "source": [
    "y_train = data_train.music_genre.values\n",
    "y_val = data_val.music_genre.values\n",
    "y_test = data_test.music_genre.values\n",
    "\n",
    "del data_train['music_genre']\n",
    "del data_val['music_genre']\n",
    "del data_test['music_genre']"
   ]
  },
  {
   "cell_type": "code",
   "execution_count": 342,
   "id": "82f69132-b33a-4f5e-b955-d74abfc46693",
   "metadata": {},
   "outputs": [
    {
     "data": {
      "text/plain": [
       "(25674, 8558, 8559)"
      ]
     },
     "execution_count": 342,
     "metadata": {},
     "output_type": "execute_result"
    }
   ],
   "source": [
    "len(y_train), len(y_val), len(y_test)"
   ]
  },
  {
   "cell_type": "code",
   "execution_count": null,
   "id": "d2e62855-ccf7-4a28-bbbd-526099850dd8",
   "metadata": {},
   "outputs": [],
   "source": []
  },
  {
   "cell_type": "code",
   "execution_count": null,
   "id": "8860281d-3957-410e-af35-bdb0914be983",
   "metadata": {},
   "outputs": [],
   "source": []
  },
  {
   "cell_type": "code",
   "execution_count": 343,
   "id": "23992eac-55f7-49dd-ba92-088a845d605f",
   "metadata": {},
   "outputs": [],
   "source": [
    "dv = DictVectorizer(sparse=False)\n",
    "\n",
    "train_dict = data_train.to_dict(orient='records')\n",
    "X_train = dv.fit_transform(train_dict)\n",
    "\n",
    "val_dict = data_val.to_dict(orient='records')\n",
    "X_val = dv.transform(val_dict)"
   ]
  },
  {
   "cell_type": "code",
   "execution_count": null,
   "id": "43279d18-0cfb-4298-bfd5-8d020ef29507",
   "metadata": {},
   "outputs": [],
   "source": []
  },
  {
   "cell_type": "code",
   "execution_count": 344,
   "id": "00e7422c-1ea9-42c0-9d27-521c84070cb4",
   "metadata": {},
   "outputs": [
    {
     "name": "stdout",
     "output_type": "stream",
     "text": [
      "Classifiers to test: ['LogisticRegression', 'DecisionTreeClassifier', 'RandomForestClassifier', 'RidgeClassifier']\n"
     ]
    }
   ],
   "source": [
    "# models to test\n",
    "classifiers = [\n",
    "    LogisticRegression(),\n",
    "    DecisionTreeClassifier(),\n",
    "    RandomForestClassifier(),\n",
    "    RidgeClassifier(),\n",
    "]\n",
    "# get names of the objects in list (too lazy for c&p...)\n",
    "names = [re.match(r\"[^\\(]+\", name.__str__())[0] for name in classifiers]\n",
    "print(f\"Classifiers to test: {names}\")"
   ]
  },
  {
   "cell_type": "code",
   "execution_count": 346,
   "id": "e4d212fe-6915-4832-82f7-0e6b01d9d6cd",
   "metadata": {},
   "outputs": [
    {
     "name": "stdout",
     "output_type": "stream",
     "text": [
      "Training classifier: LogisticRegression\n",
      "Training classifier: DecisionTreeClassifier\n",
      "Training classifier: RandomForestClassifier\n",
      "Training classifier: RidgeClassifier\n",
      "CPU times: total: 11min 32s\n",
      "Wall time: 7min 37s\n"
     ]
    }
   ],
   "source": [
    "%%time\n",
    "# test all classifiers and save pred. results on test data\n",
    "results = {}\n",
    "for name, clf in zip(names, classifiers):\n",
    "    print(f\"Training classifier: {name}\")\n",
    "    clf.fit(X_train, y_train)\n",
    "    prediction = clf.predict(X_val)\n",
    "    report = classification_report(y_val, prediction)\n",
    "    results[name] = report"
   ]
  },
  {
   "cell_type": "code",
   "execution_count": null,
   "id": "58ea478c-2da1-4989-b0cd-d501018f6cf4",
   "metadata": {},
   "outputs": [],
   "source": []
  },
  {
   "cell_type": "code",
   "execution_count": 347,
   "id": "250254cc-4c5b-457b-bdf5-026b135c3958",
   "metadata": {},
   "outputs": [
    {
     "name": "stdout",
     "output_type": "stream",
     "text": [
      "Results for LogisticRegression:\n",
      "              precision    recall  f1-score   support\n",
      "\n",
      " Alternative       0.21      0.21      0.21       858\n",
      "       Anime       0.46      0.58      0.51       828\n",
      "       Blues       0.36      0.21      0.26       824\n",
      "   Classical       0.68      0.79      0.73       818\n",
      "     Country       0.23      0.23      0.23       879\n",
      "  Electronic       0.29      0.21      0.24       853\n",
      "     Hip-Hop       0.34      0.03      0.05       888\n",
      "        Jazz       0.36      0.41      0.38       879\n",
      "         Rap       0.31      0.53      0.39       860\n",
      "        Rock       0.25      0.34      0.29       871\n",
      "\n",
      "    accuracy                           0.35      8558\n",
      "   macro avg       0.35      0.35      0.33      8558\n",
      "weighted avg       0.35      0.35      0.33      8558\n",
      "\n",
      "\n",
      "Results for DecisionTreeClassifier:\n",
      "              precision    recall  f1-score   support\n",
      "\n",
      " Alternative       0.31      0.30      0.30       858\n",
      "       Anime       0.73      0.72      0.73       828\n",
      "       Blues       0.46      0.44      0.45       824\n",
      "   Classical       0.78      0.82      0.80       818\n",
      "     Country       0.45      0.48      0.46       879\n",
      "  Electronic       0.51      0.47      0.49       853\n",
      "     Hip-Hop       0.37      0.41      0.38       888\n",
      "        Jazz       0.44      0.45      0.45       879\n",
      "         Rap       0.32      0.29      0.30       860\n",
      "        Rock       0.46      0.46      0.46       871\n",
      "\n",
      "    accuracy                           0.48      8558\n",
      "   macro avg       0.48      0.48      0.48      8558\n",
      "weighted avg       0.48      0.48      0.48      8558\n",
      "\n",
      "\n",
      "Results for RandomForestClassifier:\n",
      "              precision    recall  f1-score   support\n",
      "\n",
      " Alternative       0.48      0.34      0.40       858\n",
      "       Anime       0.86      0.85      0.85       828\n",
      "       Blues       0.66      0.64      0.65       824\n",
      "   Classical       0.85      0.88      0.86       818\n",
      "     Country       0.63      0.65      0.64       879\n",
      "  Electronic       0.70      0.70      0.70       853\n",
      "     Hip-Hop       0.41      0.45      0.43       888\n",
      "        Jazz       0.61      0.58      0.59       879\n",
      "         Rap       0.39      0.35      0.37       860\n",
      "        Rock       0.51      0.66      0.57       871\n",
      "\n",
      "    accuracy                           0.61      8558\n",
      "   macro avg       0.61      0.61      0.61      8558\n",
      "weighted avg       0.61      0.61      0.60      8558\n",
      "\n",
      "\n",
      "Results for RidgeClassifier:\n",
      "              precision    recall  f1-score   support\n",
      "\n",
      " Alternative       0.66      0.71      0.69       858\n",
      "       Anime       0.99      0.97      0.98       828\n",
      "       Blues       0.81      0.94      0.87       824\n",
      "   Classical       0.98      0.96      0.97       818\n",
      "     Country       0.84      0.87      0.86       879\n",
      "  Electronic       0.91      0.95      0.93       853\n",
      "     Hip-Hop       0.56      0.59      0.58       888\n",
      "        Jazz       0.84      0.82      0.83       879\n",
      "         Rap       0.57      0.45      0.51       860\n",
      "        Rock       0.68      0.61      0.64       871\n",
      "\n",
      "    accuracy                           0.78      8558\n",
      "   macro avg       0.78      0.79      0.78      8558\n",
      "weighted avg       0.78      0.78      0.78      8558\n",
      "\n",
      "\n"
     ]
    }
   ],
   "source": [
    "# Prediction results\n",
    "for k, v in results.items():\n",
    "    print(f\"Results for {k}:\")\n",
    "    print(f\"{v}\\n\")"
   ]
  },
  {
   "cell_type": "code",
   "execution_count": null,
   "id": "851665de-e24a-48c1-b0e8-a2651cb73fb0",
   "metadata": {},
   "outputs": [],
   "source": []
  },
  {
   "cell_type": "code",
   "execution_count": null,
   "id": "0c885c7a-9a94-42b1-a6cd-683ad5c5868c",
   "metadata": {},
   "outputs": [],
   "source": []
  },
  {
   "cell_type": "markdown",
   "id": "ae2bbc2e-eb06-4fa4-866a-0136cca962a5",
   "metadata": {},
   "source": [
    "### Parameters Tuning"
   ]
  },
  {
   "cell_type": "markdown",
   "id": "a0517401-d308-44d9-bf2e-92d679ab4847",
   "metadata": {},
   "source": [
    "#### Logistic Regression"
   ]
  },
  {
   "cell_type": "code",
   "execution_count": 234,
   "id": "2f401750-8fb8-4ab1-b34f-1f0089df065f",
   "metadata": {},
   "outputs": [
    {
     "name": "stdout",
     "output_type": "stream",
     "text": [
      "For 200 \n",
      "\n",
      "C:1 has an accuracy score: 0.44788501986445434 \n",
      "\n",
      "C:2 has an accuracy score: 0.434213601308717 \n",
      "\n",
      "C:3 has an accuracy score: 0.44110773545220844 \n",
      "\n",
      "For 210 \n",
      "\n",
      "C:1 has an accuracy score: 0.44893666744566485 \n",
      "\n",
      "C:2 has an accuracy score: 0.4448469268520682 \n",
      "\n",
      "C:3 has an accuracy score: 0.44227623276466466 \n",
      "\n",
      "For 220 \n",
      "\n",
      "C:1 has an accuracy score: 0.4490535171769105 \n",
      "\n",
      "C:2 has an accuracy score: 0.4463659733582613 \n",
      "\n",
      "C:3 has an accuracy score: 0.44367842953961206 \n",
      "\n",
      "For 230 \n",
      "\n",
      "C:1 has an accuracy score: 0.4464828230895069 \n",
      "\n",
      "C:2 has an accuracy score: 0.4467165225519981 \n",
      "\n",
      "C:3 has an accuracy score: 0.4454311755082963 \n",
      "\n",
      "For 240 \n",
      "\n",
      "C:1 has an accuracy score: 0.4482355690581912 \n",
      "\n",
      "C:2 has an accuracy score: 0.4498714652956298 \n",
      "\n",
      "C:3 has an accuracy score: 0.4477681701332087 \n",
      "\n"
     ]
    }
   ],
   "source": [
    "for i in range(200, 250, 10):\n",
    "    print(f'For {i} \\n')\n",
    "    for n in range(1, 4, 1):\n",
    "        lr = LogisticRegression(C= n, max_iter= i)\n",
    "\n",
    "        lr.fit(X_train, y_train)\n",
    "\n",
    "        lr_score = lr.score(X_val, y_val)\n",
    "\n",
    "        print(f'C:{n} has an accuracy score: {lr_score} \\n')"
   ]
  },
  {
   "cell_type": "markdown",
   "id": "bf0cc693-2b76-4389-b353-b4895cd4da00",
   "metadata": {},
   "source": [
    "#### Highest accuracy score of 0.4490 with max_iter = 220 and C=1.0"
   ]
  },
  {
   "cell_type": "code",
   "execution_count": null,
   "id": "1755d1c2-e446-4e78-92aa-85b307c2bc6b",
   "metadata": {},
   "outputs": [],
   "source": []
  },
  {
   "cell_type": "markdown",
   "id": "cad7bc59-6c84-4eb1-84d5-13c02d1a620c",
   "metadata": {},
   "source": [
    "### Decision Forest"
   ]
  },
  {
   "cell_type": "code",
   "execution_count": 237,
   "id": "14bfebd5-a8cd-464f-9678-97ee1c004fce",
   "metadata": {
    "scrolled": true
   },
   "outputs": [
    {
     "name": "stdout",
     "output_type": "stream",
     "text": [
      "For max-depth 5: \n",
      "\n",
      "with max_leaf_nodes, 100 has an accuray_score: 0.4704370179948586\n",
      "with max_leaf_nodes, 110 has an accuray_score: 0.4704370179948586\n",
      "with max_leaf_nodes, 120 has an accuray_score: 0.4704370179948586\n",
      "with max_leaf_nodes, 130 has an accuray_score: 0.4704370179948586\n",
      "--------------- \n",
      "\n",
      "For max-depth 10: \n",
      "\n",
      "with max_leaf_nodes, 100 has an accuray_score: 0.5196307548492638\n",
      "with max_leaf_nodes, 110 has an accuray_score: 0.5220845992054218\n",
      "with max_leaf_nodes, 120 has an accuray_score: 0.5229025473241412\n",
      "with max_leaf_nodes, 130 has an accuray_score: 0.5253563916802991\n",
      "--------------- \n",
      "\n",
      "For max-depth 15: \n",
      "\n",
      "with max_leaf_nodes, 100 has an accuray_score: 0.5199813040430007\n",
      "with max_leaf_nodes, 110 has an accuray_score: 0.5212666510867024\n",
      "with max_leaf_nodes, 120 has an accuray_score: 0.5227856975928955\n",
      "with max_leaf_nodes, 130 has an accuray_score: 0.5233699462491236\n",
      "--------------- \n",
      "\n"
     ]
    }
   ],
   "source": [
    "for depth in [5, 10, 15]:\n",
    "    print(f'For max-depth {depth}: \\n')\n",
    "    for n in range(100, 131, 10):\n",
    "        model = DecisionTreeClassifier(max_depth=depth, max_leaf_nodes=n, random_state=42)\n",
    "        model.fit(X_train, y_train)\n",
    "        rf_score = model.score(X_val, y_val)\n",
    "        print(f'with max_leaf_nodes, {n} has an accuray_score: {rf_score}')\n",
    "    print('--------------- \\n')"
   ]
  },
  {
   "cell_type": "markdown",
   "id": "5d0c276b-6697-4483-8668-d77d1883fc15",
   "metadata": {},
   "source": [
    "#### Highest accuracy score of 0.5224 with `max_depth = 10 and max_leaf_nodes=130`"
   ]
  },
  {
   "cell_type": "code",
   "execution_count": null,
   "id": "a88beca0-02af-4523-b4d0-d455d4f43164",
   "metadata": {},
   "outputs": [],
   "source": []
  },
  {
   "cell_type": "markdown",
   "id": "29906084-eee3-42ca-8ee0-ba7a94821c61",
   "metadata": {},
   "source": [
    "### Random Forest"
   ]
  },
  {
   "cell_type": "code",
   "execution_count": 239,
   "id": "64e797d6-98f6-49e7-a4a0-d7983361486e",
   "metadata": {},
   "outputs": [
    {
     "name": "stdout",
     "output_type": "stream",
     "text": [
      "For max-depth 10: \n",
      "\n",
      "180 estimator has an accuray_score: 0.5012853470437018\n",
      "190 estimator has an accuray_score: 0.4995326010750175\n",
      "200 estimator has an accuray_score: 0.5014021967749475\n",
      "--------------- \n",
      "\n",
      "For max-depth 15: \n",
      "\n",
      "180 estimator has an accuray_score: 0.5337695723299837\n",
      "190 estimator has an accuray_score: 0.5349380696424398\n",
      "200 estimator has an accuray_score: 0.5335358728674924\n",
      "--------------- \n",
      "\n"
     ]
    }
   ],
   "source": [
    "for depth in [10, 15]:\n",
    "    print(f'For max-depth {depth}: \\n')\n",
    "    for n in range(180, 201, 10):\n",
    "        model = RandomForestClassifier(n_estimators=n, random_state=42, max_depth = depth)\n",
    "        model.fit(X_train, y_train)\n",
    "        rf_score = model.score(X_val, y_val)\n",
    "        print(f'{n} estimator has an accuray_score: {rf_score}')\n",
    "    print('--------------- \\n')"
   ]
  },
  {
   "cell_type": "markdown",
   "id": "865bb049-4902-4d0f-96b6-7a8863f856f0",
   "metadata": {},
   "source": [
    "#### Highest accuracy score of 0.5349 with `max_depth = 15 and n_estimator=190`\n",
    " Took much time to run without improvement in accuracy"
   ]
  },
  {
   "cell_type": "code",
   "execution_count": null,
   "id": "8040eff3-bd79-434e-a5f7-251bf7c9a8ef",
   "metadata": {},
   "outputs": [],
   "source": []
  },
  {
   "cell_type": "markdown",
   "id": "ec473649-4d4f-4fcb-99ec-0fc080e10dcd",
   "metadata": {},
   "source": [
    "### Ridge Classifier"
   ]
  },
  {
   "cell_type": "code",
   "execution_count": 348,
   "id": "64b7a610-46de-4191-aac7-1917b89d1f0f",
   "metadata": {},
   "outputs": [
    {
     "name": "stdout",
     "output_type": "stream",
     "text": [
      "for alpha = 0.001, accuracy score is 0.7719093246085534\n",
      "for alpha = 0.01, accuracy score is 0.7724935732647815\n",
      "for alpha = 0.1, accuracy score is 0.7755316662771675\n",
      "for alpha = 1, accuracy score is 0.784295396120589\n",
      "for alpha = 10, accuracy score is 0.7716756251460621\n"
     ]
    }
   ],
   "source": [
    "for i in [0.001, 0.01, 0.1, 1, 10]:\n",
    "    rcl = RidgeClassifier(alpha=i, random_state=42)\n",
    "\n",
    "    rcl.fit(X_train, y_train)\n",
    "\n",
    "    rcl_score = rcl.score(X_val, y_val)\n",
    "\n",
    "    print(f'for alpha = {i}, accuracy score is {rcl_score}')"
   ]
  },
  {
   "cell_type": "markdown",
   "id": "24c6b46c-7857-4788-baae-6d24ef5b7dc5",
   "metadata": {},
   "source": [
    "##### Highest accuracy score of 0.784 with alpha = 1"
   ]
  },
  {
   "cell_type": "markdown",
   "id": "9f2c98e9-6175-4d42-80d5-af3406ec9f38",
   "metadata": {},
   "source": [
    "### The Ridge Classifier provided the highest accuracy score amongst all models "
   ]
  },
  {
   "cell_type": "code",
   "execution_count": null,
   "id": "faf1b0c0-37e1-44f4-a092-1a356f6e1c35",
   "metadata": {},
   "outputs": [],
   "source": []
  },
  {
   "cell_type": "code",
   "execution_count": null,
   "id": "d967c679-868f-4d57-84ae-5ad0cc5f0416",
   "metadata": {},
   "outputs": [],
   "source": []
  },
  {
   "cell_type": "markdown",
   "id": "5bd7f159-f4e4-492c-8ac5-80173760abf1",
   "metadata": {},
   "source": [
    "## K-Fold Validation\n",
    "For Ridge Classification"
   ]
  },
  {
   "cell_type": "code",
   "execution_count": 350,
   "id": "e5c1637e-33dc-4616-8a44-d7a03e4e8006",
   "metadata": {},
   "outputs": [
    {
     "data": {
      "text/plain": [
       "25674"
      ]
     },
     "execution_count": 350,
     "metadata": {},
     "output_type": "execute_result"
    }
   ],
   "source": [
    "len(X_train)"
   ]
  },
  {
   "cell_type": "code",
   "execution_count": 351,
   "id": "00f94ee1-ddaa-4c7d-8da7-530960471c69",
   "metadata": {},
   "outputs": [
    {
     "name": "stdout",
     "output_type": "stream",
     "text": [
      "Acccuracies on each training data:\n",
      " [0.78037383 0.78777259 0.77686916 0.77647975 0.78184651 0.78340475\n",
      " 0.775224   0.78496299 0.7693806  0.78262563]\n",
      " \n",
      "Mean:\n",
      " 0.7798939814831669\n"
     ]
    }
   ],
   "source": [
    "rcl = RidgeClassifier(alpha=1, random_state=42)\n",
    "accuracies = cross_val_score(rcl, X_train, y_train, cv=10)\n",
    "\n",
    "print('Acccuracies on each training data:\\n', accuracies)\n",
    "print(' ')\n",
    "print('Mean:\\n', accuracies.mean())"
   ]
  },
  {
   "cell_type": "markdown",
   "id": "4cd3bd83-c6bf-4c9f-a357-e34c90f8825d",
   "metadata": {},
   "source": [
    "#### The Ridge Classification performed across all cros-validated records with an approximate mean of 0.78"
   ]
  },
  {
   "cell_type": "code",
   "execution_count": null,
   "id": "bea385ae-ebf5-49f3-9872-192e97fd4b5b",
   "metadata": {},
   "outputs": [],
   "source": []
  },
  {
   "cell_type": "code",
   "execution_count": null,
   "id": "34b4b071-507e-401c-b42e-4176d0df7ba4",
   "metadata": {},
   "outputs": [],
   "source": []
  },
  {
   "cell_type": "markdown",
   "id": "11fc65f5-cb37-4c81-9a29-8c6182018067",
   "metadata": {},
   "source": [
    "## Prediction"
   ]
  },
  {
   "cell_type": "code",
   "execution_count": 352,
   "id": "00536e67-771d-4fe7-8b51-241d60ae8fd8",
   "metadata": {},
   "outputs": [],
   "source": [
    "dicts_full_train = data_full_train.to_dict(orient='records')"
   ]
  },
  {
   "cell_type": "code",
   "execution_count": 353,
   "id": "9cede26a-260b-46bb-ab76-3170d2580490",
   "metadata": {},
   "outputs": [],
   "source": [
    "dv = DictVectorizer(sparse=False)\n",
    "X_full_train = dv.fit_transform(dicts_full_train)"
   ]
  },
  {
   "cell_type": "code",
   "execution_count": 354,
   "id": "5c08d0f3-45d2-43bd-a609-3fc1ca1b94ef",
   "metadata": {},
   "outputs": [],
   "source": [
    "y_full_train = data_full_train.music_genre.values"
   ]
  },
  {
   "cell_type": "code",
   "execution_count": 355,
   "id": "7bf21beb-7e3e-452d-a612-f09fc6bcaeb3",
   "metadata": {
    "scrolled": true
   },
   "outputs": [
    {
     "data": {
      "text/html": [
       "<style>#sk-container-id-1 {color: black;}#sk-container-id-1 pre{padding: 0;}#sk-container-id-1 div.sk-toggleable {background-color: white;}#sk-container-id-1 label.sk-toggleable__label {cursor: pointer;display: block;width: 100%;margin-bottom: 0;padding: 0.3em;box-sizing: border-box;text-align: center;}#sk-container-id-1 label.sk-toggleable__label-arrow:before {content: \"▸\";float: left;margin-right: 0.25em;color: #696969;}#sk-container-id-1 label.sk-toggleable__label-arrow:hover:before {color: black;}#sk-container-id-1 div.sk-estimator:hover label.sk-toggleable__label-arrow:before {color: black;}#sk-container-id-1 div.sk-toggleable__content {max-height: 0;max-width: 0;overflow: hidden;text-align: left;background-color: #f0f8ff;}#sk-container-id-1 div.sk-toggleable__content pre {margin: 0.2em;color: black;border-radius: 0.25em;background-color: #f0f8ff;}#sk-container-id-1 input.sk-toggleable__control:checked~div.sk-toggleable__content {max-height: 200px;max-width: 100%;overflow: auto;}#sk-container-id-1 input.sk-toggleable__control:checked~label.sk-toggleable__label-arrow:before {content: \"▾\";}#sk-container-id-1 div.sk-estimator input.sk-toggleable__control:checked~label.sk-toggleable__label {background-color: #d4ebff;}#sk-container-id-1 div.sk-label input.sk-toggleable__control:checked~label.sk-toggleable__label {background-color: #d4ebff;}#sk-container-id-1 input.sk-hidden--visually {border: 0;clip: rect(1px 1px 1px 1px);clip: rect(1px, 1px, 1px, 1px);height: 1px;margin: -1px;overflow: hidden;padding: 0;position: absolute;width: 1px;}#sk-container-id-1 div.sk-estimator {font-family: monospace;background-color: #f0f8ff;border: 1px dotted black;border-radius: 0.25em;box-sizing: border-box;margin-bottom: 0.5em;}#sk-container-id-1 div.sk-estimator:hover {background-color: #d4ebff;}#sk-container-id-1 div.sk-parallel-item::after {content: \"\";width: 100%;border-bottom: 1px solid gray;flex-grow: 1;}#sk-container-id-1 div.sk-label:hover label.sk-toggleable__label {background-color: #d4ebff;}#sk-container-id-1 div.sk-serial::before {content: \"\";position: absolute;border-left: 1px solid gray;box-sizing: border-box;top: 0;bottom: 0;left: 50%;z-index: 0;}#sk-container-id-1 div.sk-serial {display: flex;flex-direction: column;align-items: center;background-color: white;padding-right: 0.2em;padding-left: 0.2em;position: relative;}#sk-container-id-1 div.sk-item {position: relative;z-index: 1;}#sk-container-id-1 div.sk-parallel {display: flex;align-items: stretch;justify-content: center;background-color: white;position: relative;}#sk-container-id-1 div.sk-item::before, #sk-container-id-1 div.sk-parallel-item::before {content: \"\";position: absolute;border-left: 1px solid gray;box-sizing: border-box;top: 0;bottom: 0;left: 50%;z-index: -1;}#sk-container-id-1 div.sk-parallel-item {display: flex;flex-direction: column;z-index: 1;position: relative;background-color: white;}#sk-container-id-1 div.sk-parallel-item:first-child::after {align-self: flex-end;width: 50%;}#sk-container-id-1 div.sk-parallel-item:last-child::after {align-self: flex-start;width: 50%;}#sk-container-id-1 div.sk-parallel-item:only-child::after {width: 0;}#sk-container-id-1 div.sk-dashed-wrapped {border: 1px dashed gray;margin: 0 0.4em 0.5em 0.4em;box-sizing: border-box;padding-bottom: 0.4em;background-color: white;}#sk-container-id-1 div.sk-label label {font-family: monospace;font-weight: bold;display: inline-block;line-height: 1.2em;}#sk-container-id-1 div.sk-label-container {text-align: center;}#sk-container-id-1 div.sk-container {/* jupyter's `normalize.less` sets `[hidden] { display: none; }` but bootstrap.min.css set `[hidden] { display: none !important; }` so we also need the `!important` here to be able to override the default hidden behavior on the sphinx rendered scikit-learn.org. See: https://github.com/scikit-learn/scikit-learn/issues/21755 */display: inline-block !important;position: relative;}#sk-container-id-1 div.sk-text-repr-fallback {display: none;}</style><div id=\"sk-container-id-1\" class=\"sk-top-container\"><div class=\"sk-text-repr-fallback\"><pre>RidgeClassifier(alpha=1, random_state=42)</pre><b>In a Jupyter environment, please rerun this cell to show the HTML representation or trust the notebook. <br />On GitHub, the HTML representation is unable to render, please try loading this page with nbviewer.org.</b></div><div class=\"sk-container\" hidden><div class=\"sk-item\"><div class=\"sk-estimator sk-toggleable\"><input class=\"sk-toggleable__control sk-hidden--visually\" id=\"sk-estimator-id-1\" type=\"checkbox\" checked><label for=\"sk-estimator-id-1\" class=\"sk-toggleable__label sk-toggleable__label-arrow\">RidgeClassifier</label><div class=\"sk-toggleable__content\"><pre>RidgeClassifier(alpha=1, random_state=42)</pre></div></div></div></div></div>"
      ],
      "text/plain": [
       "RidgeClassifier(alpha=1, random_state=42)"
      ]
     },
     "execution_count": 355,
     "metadata": {},
     "output_type": "execute_result"
    }
   ],
   "source": [
    "modelrcl = RidgeClassifier(alpha=1, random_state=42)\n",
    "modelrcl.fit(X_full_train, y_full_train)"
   ]
  },
  {
   "cell_type": "code",
   "execution_count": 356,
   "id": "d82daeaa-4074-42a9-9b21-38c4c185cdec",
   "metadata": {},
   "outputs": [],
   "source": [
    "dicts_test = data_test.to_dict(orient='records')\n",
    "X_test = dv.transform(dicts_test)"
   ]
  },
  {
   "cell_type": "code",
   "execution_count": 358,
   "id": "7c582cac-b64d-4acc-801e-5f83d8894467",
   "metadata": {},
   "outputs": [
    {
     "name": "stdout",
     "output_type": "stream",
     "text": [
      "              precision    recall  f1-score   support\n",
      "\n",
      " Alternative       0.69      0.66      0.68       826\n",
      "       Anime       0.97      0.99      0.98       867\n",
      "       Blues       0.84      0.96      0.89       838\n",
      "   Classical       0.93      0.97      0.95       883\n",
      "     Country       0.85      0.92      0.88       861\n",
      "  Electronic       0.91      0.98      0.94       906\n",
      "     Hip-Hop       0.53      0.66      0.59       850\n",
      "        Jazz       0.90      0.81      0.85       833\n",
      "         Rap       0.57      0.43      0.49       840\n",
      "        Rock       0.75      0.59      0.66       855\n",
      "\n",
      "    accuracy                           0.80      8559\n",
      "   macro avg       0.79      0.80      0.79      8559\n",
      "weighted avg       0.80      0.80      0.79      8559\n",
      "\n",
      "\n",
      " Accuracy score of 0.8 with Ridge Classifier\n"
     ]
    }
   ],
   "source": [
    "lr_pred = modelrcl.predict(X_test)\n",
    "lr_class = classification_report(y_test, lr_pred)\n",
    "lr_score = accuracy_score(y_test, lr_pred)\n",
    "print(lr_class)\n",
    "print(f'\\n Accuracy score of {np.round(lr_score, 2)} with Ridge Classifier')"
   ]
  },
  {
   "cell_type": "markdown",
   "id": "2de840e9-72e0-4337-a6c2-35aed2fffe95",
   "metadata": {},
   "source": [
    "#### Improved result when trained on full data with an accuracy of 0.80"
   ]
  },
  {
   "cell_type": "code",
   "execution_count": 361,
   "id": "0cfd75f9-2a5d-4113-97a4-ca62776d4384",
   "metadata": {},
   "outputs": [
    {
     "data": {
      "text/plain": [
       "array(['Alternative', 'Alternative', 'Anime', ..., 'Rock', 'Electronic',\n",
       "       'Classical'], dtype='<U11')"
      ]
     },
     "execution_count": 361,
     "metadata": {},
     "output_type": "execute_result"
    }
   ],
   "source": [
    "lr_pred"
   ]
  },
  {
   "cell_type": "code",
   "execution_count": 359,
   "id": "00f265db-0b1f-41cc-963b-4029572e48e9",
   "metadata": {},
   "outputs": [],
   "source": [
    "# import pickle"
   ]
  },
  {
   "cell_type": "code",
   "execution_count": 360,
   "id": "fb157d02-ebc8-4c36-8e62-5e5cfedb0412",
   "metadata": {},
   "outputs": [
    {
     "name": "stdout",
     "output_type": "stream",
     "text": [
      "the model is saved to modelrcl.pkl\n"
     ]
    }
   ],
   "source": [
    "# with open('modelrcl.pkl', 'wb') as f_out:\n",
    "#     pickle.dump((dv, modelrcl), f_out)\n",
    "\n",
    "# print(f'the model is saved to modelrcl.pkl')"
   ]
  },
  {
   "cell_type": "code",
   "execution_count": null,
   "id": "5483906c-72b0-421d-b97e-42e0ca3c64bc",
   "metadata": {},
   "outputs": [],
   "source": []
  },
  {
   "cell_type": "code",
   "execution_count": null,
   "id": "78c1cc69-fe05-4658-9779-42e3cc725161",
   "metadata": {},
   "outputs": [],
   "source": []
  }
 ],
 "metadata": {
  "kernelspec": {
   "display_name": "Python 3 (ipykernel)",
   "language": "python",
   "name": "python3"
  },
  "language_info": {
   "codemirror_mode": {
    "name": "ipython",
    "version": 3
   },
   "file_extension": ".py",
   "mimetype": "text/x-python",
   "name": "python",
   "nbconvert_exporter": "python",
   "pygments_lexer": "ipython3",
   "version": "3.10.7"
  }
 },
 "nbformat": 4,
 "nbformat_minor": 5
}
